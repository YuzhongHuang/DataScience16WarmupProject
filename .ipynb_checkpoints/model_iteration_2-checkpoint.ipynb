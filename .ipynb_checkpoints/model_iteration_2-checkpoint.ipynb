{
 "cells": [
  {
   "cell_type": "markdown",
   "metadata": {},
   "source": [
    "# Model Iteration 2"
   ]
  },
  {
   "cell_type": "markdown",
   "metadata": {},
   "source": [
    "In model iteration 2, I'm going to revise my model based on the ideas of another data scientist. \n",
    "\n",
    "Below is a list of sources that gives me inspiration:\n",
    "\n",
    "https://www.dataquest.io/mission/75/improving-your-submission\n",
    "\n",
    "http://elenacuoco.altervista.org/blog/archives/1195\n",
    "\n",
    "https://inclass.kaggle.com/c/deloitte-tackles-titanic/forums/t/9841/getting-high-scores-without-looking-at-actual-data-set\n",
    "\n",
    "I will first follow some steps used in Kaggles tutorials on Random Forest model."
   ]
  },
  {
   "cell_type": "markdown",
   "metadata": {},
   "source": [
    "## First Step\n",
    "Setup the data, including data importing and data cleaning "
   ]
  },
  {
   "cell_type": "code",
   "execution_count": 167,
   "metadata": {
    "collapsed": false
   },
   "outputs": [],
   "source": [
    "import numpy as np\n",
    "import pandas as pd\n",
    "import sklearn\n",
    "\n",
    "# reading train and test data\n",
    "titanic = pd.read_csv(\"train.csv\")\n",
    "titanic_test = pd.read_csv(\"test.csv\")\n",
    "\n",
    "# Set up predictors\n",
    "predictors = [\"Pclass\", \"Sex\", \"Age\", \"SibSp\", \"Parch\", \"Fare\", \"Embarked\"]\n",
    "\n",
    "def data_clean(df):\n",
    "    \"\"\"\n",
    "    Do data cleaning for a given data frame,\n",
    "    including fill \"NaN\" in \"Age\" with median \n",
    "    and \"Nan\" in \"Embarked\" with mode \"S\",\n",
    "    and encoding \"Sex\" to 0 and 1, \"Embarked\"\n",
    "    to 0, 1 and 2 to correspond to \"S\", \"Q\"\n",
    "    and \"C\"\n",
    "    \"\"\"\n",
    "\n",
    "    df[\"Age\"] = df[\"Age\"].fillna(df[\"Age\"].median())\n",
    "    df[\"Fare\"] = df[\"Fare\"].fillna(df[\"Fare\"].median())\n",
    "    \n",
    "    # Replace all the occurences of male with the number 0.\n",
    "    df.loc[df[\"Sex\"] == \"male\", \"Sex\"] = 0\n",
    "    df.loc[df[\"Sex\"] == \"female\", \"Sex\"] = 1\n",
    "\n",
    "    df[\"Embarked\"] = df[\"Embarked\"].fillna(\"S\")\n",
    "\n",
    "    df.loc[df[\"Embarked\"] == \"S\", \"Embarked\"] = 0\n",
    "    df.loc[df[\"Embarked\"] == \"Q\", \"Embarked\"] = 1\n",
    "    df.loc[df[\"Embarked\"] == \"C\", \"Embarked\"] = 2\n",
    "\n",
    "data_clean(titanic_test)\n",
    "data_clean(titanic)"
   ]
  },
  {
   "cell_type": "markdown",
   "metadata": {},
   "source": [
    "## Random Forest\n",
    "Construct a random forest and generate cross validated predictions on our dataset. I also tuned the parameters of function RandomForestClassifier() to reduce the effect of overfitting."
   ]
  },
  {
   "cell_type": "code",
   "execution_count": 385,
   "metadata": {
    "collapsed": false
   },
   "outputs": [
    {
     "name": "stdout",
     "output_type": "stream",
     "text": [
      "0.819304152637\n"
     ]
    }
   ],
   "source": [
    "from sklearn import cross_validation\n",
    "from sklearn.ensemble import RandomForestClassifier\n",
    "\n",
    "# Initialize our algorithm with the default paramters\n",
    "# n_estimators is the number of trees we want to make\n",
    "# min_samples_split is the minimum number of rows we need to make a split\n",
    "# min_samples_leaf is the minimum number of samples we can have at the place where a tree branch ends (the bottom points of the tree)\n",
    "alg_rf = RandomForestClassifier(random_state=1, n_estimators=100, min_samples_split=40, min_samples_leaf=20)\n",
    "\n",
    "def train_score(alg, predictors):\n",
    "    \"\"\"\n",
    "    Evaluate the performance of a given\n",
    "    algorithm on Titanic's train dataset\n",
    "    \n",
    "    Using cross validation to reduce \n",
    "    overfitting issue\n",
    "    \"\"\"\n",
    "    \n",
    "    scores = cross_validation.cross_val_score(alg, titanic[predictors], titanic[\"Survived\"], cv=3)\n",
    "    print(scores.mean())\n",
    "\n",
    "# test the random forest algorithm\n",
    "train_score(alg_rf, predictors)"
   ]
  },
  {
   "cell_type": "markdown",
   "metadata": {},
   "source": [
    "## Finding the best features\n",
    "Feature engineering is the most important part of any machine learning task, and there are lots more features we could calculate. But we also need a way to figure out which features are the best. To evaluate features, I will use univariate feature selection. This essentially goes column by column, and figures out which columns correlate most closely with what we're trying to predict"
   ]
  },
  {
   "cell_type": "code",
   "execution_count": 170,
   "metadata": {
    "collapsed": false
   },
   "outputs": [
    {
     "data": {
      "image/png": "[encoded data removed]",
      "text/plain": [
       "<matplotlib.figure.Figure at 0x7fd698901550>"
      ]
     },
     "metadata": {},
     "output_type": "display_data"
    }
   ],
   "source": [
    "import matplotlib.pyplot as plt\n",
    "%matplotlib inline\n",
    "from sklearn.feature_selection import SelectKBest, f_classif\n",
    "\n",
    "\n",
    "def best_feature(df, predictors):\n",
    "    \"\"\"\n",
    "    Evaluate each features and plot a diagram of\n",
    "    each variable's correlation.\n",
    "    \n",
    "    Using univariate feature selection to \n",
    "    figures out which columns correlate most closely \n",
    "    with what we're trying to predict\n",
    "    \"\"\"\n",
    "    \n",
    "    # Perform feature selection\n",
    "    selector = SelectKBest(f_classif, k=5)\n",
    "    selector.fit(df[predictors], df[\"Survived\"])\n",
    "    \n",
    "    # Get the raw p-values for each feature, and transform from p-values into scores\n",
    "    scores = -np.log10(selector.pvalues_)\n",
    "\n",
    "    # Plot the scores.  See how \"Pclass\", \"Sex\", \"Title\", and \"Fare\" are the best?\n",
    "    plt.bar(range(len(predictors)), scores)\n",
    "    plt.xticks(range(len(predictors)), predictors, rotation='vertical')\n",
    "    plt.show()\n",
    "    \n",
    "best_feature(titanic, predictors)"
   ]
  },
  {
   "cell_type": "markdown",
   "metadata": {},
   "source": [
    "## Ensembling with Gradient Boosting\n",
    "\n",
    "One thing we can do to improve the accuracy of our predictions is to ensemble different classifiers. Ensemblingh means that we generate predictions using information from a set of classifiers, instead of just one. In practice, this means that we average their predictions.\n",
    "\n",
    "Generally, the more diverse the models we ensemble, the higher our accuracy will be. Diversity means that the models generate their results from different columns, or use a very different method to generate predictions. Ensembling a random forest classifier with a decision tree probably won't work extremely well, because they are very similar. On the other hand, ensembling a linear regression with a random forest can work very well.\n",
    "\n",
    "Here, I will use logistic regression over some linear variables and use gradient boosting over non-linear features. And finally ensemble them to get merged result. But some important variables like Pclass, Sex and Fare are both included."
   ]
  },
  {
   "cell_type": "code",
   "execution_count": 163,
   "metadata": {
    "collapsed": false
   },
   "outputs": [
    {
     "name": "stdout",
     "output_type": "stream",
     "text": [
      "0.810325476992\n"
     ]
    },
    {
     "name": "stderr",
     "output_type": "stream",
     "text": [
      "/home/yuzhong/anaconda2/lib/python2.7/site-packages/ipykernel/__main__.py:48: FutureWarning: in the future, boolean array-likes will be handled as a boolean array index\n"
     ]
    }
   ],
   "source": [
    "from sklearn.ensemble import GradientBoostingClassifier\n",
    "from sklearn.linear_model import LogisticRegression\n",
    "from sklearn.cross_validation import KFold\n",
    "\n",
    "# define list of predictors for Gradient Boosting and Logistic Regression respectively\n",
    "non_line_preds = [\"Pclass\", \"Sex\", \"Fare\", \"Age\", \"Embarked\", \"SibSp\", \"Parch\"]\n",
    "line_preds = [\"Pclass\", \"Sex\", \"Fare\"]\n",
    "\n",
    "# define Gradient Boosting and Logistic Regression for ensembling\n",
    "algorithms = [\n",
    "    [GradientBoostingClassifier(random_state=1, n_estimators=25, max_depth=3), non_line_preds],\n",
    "    [LogisticRegression(random_state=1), line_preds]\n",
    "]\n",
    "\n",
    "def ensemble_train(algs, weight1, weight2):\n",
    "    \"\"\"\n",
    "    Given a list of two algorithms and \n",
    "    values of their weights, calculate and print out\n",
    "    the scores of ensembled prediction with \n",
    "    cross validation\n",
    "    \"\"\"\n",
    "    # Initialize the cross validation folds\n",
    "    kf = KFold(titanic.shape[0], n_folds=3, random_state=1)\n",
    "    \n",
    "    predictions = []\n",
    "    for train, test in kf:\n",
    "        train_target = titanic[\"Survived\"].iloc[train]\n",
    "        full_test_predictions = []\n",
    "        # Make predictions for each algorithm on each fold\n",
    "        for alg, predictors in algs:\n",
    "            # Fit the algorithm on the training data.\n",
    "            alg.fit(titanic[predictors].iloc[train,:], train_target)\n",
    "            # Select and predict on the test fold.  \n",
    "            # The .astype(float) is necessary to convert the dataframe to all floats and avoid an sklearn error.\n",
    "            test_predictions = alg.predict_proba(titanic[predictors].iloc[test,:].astype(float))[:,1]\n",
    "            full_test_predictions.append(test_predictions)\n",
    "        # The gradient boosting classifier generates better predictions, so we weight it higher.\n",
    "        test_predictions = (full_test_predictions[0] * weight1 + full_test_predictions[1] * weight2) / (weight1 + weight2)\n",
    "        # Any value over .5 is assumed to be a 1 prediction, and below .5 is a 0 prediction.\n",
    "        test_predictions[test_predictions <= .5] = 0\n",
    "        test_predictions[test_predictions > .5] = 1\n",
    "        predictions.append(test_predictions)\n",
    "\n",
    "    # Put all the predictions together into one array.\n",
    "    predictions = np.concatenate(predictions, axis=0)\n",
    "    \n",
    "    # Compute accuracy by comparing to the training data.\n",
    "    accuracy = sum(predictions[predictions == titanic[\"Survived\"]]) / len(predictions)\n",
    "    print(accuracy)\n",
    "\n",
    "ensemble_train(algorithms, 3, 1)"
   ]
  },
  {
   "cell_type": "markdown",
   "metadata": {},
   "source": [
    "## Making a submission"
   ]
  },
  {
   "cell_type": "code",
   "execution_count": 164,
   "metadata": {
    "collapsed": false
   },
   "outputs": [],
   "source": [
    "def submission(predictions):\n",
    "    \"\"\"\n",
    "    Generate a submission file based on the predictions\n",
    "    \"\"\"\n",
    "    submission = pd.DataFrame({\n",
    "            \"PassengerId\": titanic_test[\"PassengerId\"],\n",
    "            \"Survived\": predictions\n",
    "        })\n",
    "\n",
    "    submission.to_csv(\"titanic_submission.csv\", index=False)\n",
    "    \n",
    "def ensemble_test(algs, weight1, weight2):\n",
    "    full_predictions = []\n",
    "    for alg, predicts in algs:\n",
    "        # Fit the algorithm using the full training data.\n",
    "        alg.fit(titanic[predicts], titanic[\"Survived\"])\n",
    "        # Predict using the test dataset.  We have to convert all the columns to floats to avoid an error.\n",
    "        predictions = alg.predict_proba(titanic_test[predicts].astype(float))[:,1]\n",
    "        full_predictions.append(predictions)\n",
    "\n",
    "    # The gradient boosting classifier generates better predictions, so we weight it higher.\n",
    "    predictions = (full_predictions[0] * weight1 + full_predictions[1] * weight1) / (weight1 + weight2)\n",
    "\n",
    "    # Create a new dataframe with only the columns Kaggle wants from the dataset.\n",
    "    predictions[predictions <= .5] = 0\n",
    "    predictions[predictions > .5] = 1\n",
    "    predictions = predictions.astype(int)\n",
    "    \n",
    "    return predictions\n",
    "submission(ensemble_test(algorithms, 3, 1))"
   ]
  },
  {
   "cell_type": "markdown",
   "metadata": {},
   "source": [
    "From the improvement I made above, I get a score of 0.78469, with an increase of 1 percent. But certainly more progress can be made, therefore I moved to the next step."
   ]
  },
  {
   "cell_type": "markdown",
   "metadata": {},
   "source": [
    "## Better Data cleaning and data munge\n",
    "\n",
    "The inspiration for this section is from source: http://elenacuoco.altervista.org/blog/archives/1195\n",
    "I used most of his data cleaning code while adding some changes of my own. Including the result I found during model iteration 1. I add a new feature of \"HighGroup\", a series of boolean indicating whether the passinger is a woman with either Pclass 1 or 2, or old in age. The rationale behind the feature is that aged female has a survival rate near 1.0, women with Pclass 1 has about 0.97 and Pclass 2 has about 0.92. Filtering out these important survival features helps the modeling tools to predict better."
   ]
  },
  {
   "cell_type": "code",
   "execution_count": 431,
   "metadata": {
    "collapsed": false
   },
   "outputs": [],
   "source": [
    "import string\n",
    "from sklearn import preprocessing\n",
    "\n",
    "le = preprocessing.LabelEncoder()\n",
    "enc=preprocessing.OneHotEncoder()\n",
    "\n",
    "def substrings_in_string(big_string, substrings):\n",
    "    \"\"\"\n",
    "    Utility to clean and munge data\n",
    "    \n",
    "    returns the substring if it is \n",
    "    contained in the big string. set \n",
    "    the result to \"NaN\" if there is no\n",
    "    match found\n",
    "    \"\"\"\n",
    "    for substring in substrings:\n",
    "        if string.find(big_string, substring) != -1:\n",
    "            return substring\n",
    "    return np.nan\n",
    "\n",
    "\n",
    "def clean_and_munge_data(df):\n",
    "    \"\"\"\n",
    "    Clean the data for titanic dataset\n",
    "    and create some new features by either\n",
    "    combining two already existed features\n",
    "    or inducting from one specific feature.\n",
    "    \"\"\"\n",
    "    \n",
    "    # setting silly values to nan and then replace nan with median\n",
    "    df.Fare = df.Fare.map(lambda x: np.nan if x==0 else x)\n",
    "    df[\"Fare\"] = df[\"Fare\"].fillna(df[\"Fare\"].median())\n",
    "    \n",
    "    # creating a title column from name\n",
    "    title_list=['Mrs', 'Mr', 'Master', 'Miss', 'Major', 'Rev',\n",
    "                'Dr', 'Ms', 'Mlle','Col', 'Capt', 'Mme', 'Countess',\n",
    "                'Don', 'Jonkheer']\n",
    "    df['Title'] = df['Name'].map(lambda x: substrings_in_string(x, title_list))\n",
    "    df['Title'] = df['Title'].fillna(\"Mrs\")\n",
    "    # replacing all titles with mr, mrs, miss, master\n",
    "    def replace_titles(x):\n",
    "        title=x['Title']\n",
    "        if title in ['Mr','Don', 'Major', 'Capt', 'Jonkheer', 'Rev', 'Col']:\n",
    "            return 'Mr'\n",
    "        elif title in ['Master']:\n",
    "            return 'Master'\n",
    "        elif title in ['Countess', 'Mme','Mrs']:\n",
    "            return 'Mrs'\n",
    "        elif title in ['Mlle', 'Ms','Miss']:\n",
    "            return 'Miss'\n",
    "        elif title =='Dr':\n",
    "            if x['Sex']=='Male':\n",
    "                return 'Mr'\n",
    "            else:\n",
    "                return 'Mrs'\n",
    "        elif title =='':\n",
    "            if x['Sex']=='Male':\n",
    "                return 'Master'\n",
    "            else:\n",
    "                return 'Miss'\n",
    "        else:\n",
    "            return title\n",
    "\n",
    "    df['Title']=df.apply(replace_titles, axis=1)\n",
    "\n",
    "    # Creating new family_size column\n",
    "    df['Family_Size']=df['SibSp']+df['Parch']\n",
    "    df['Family']=df['SibSp']*df['Parch']\n",
    "\n",
    "\n",
    "    # imputing nan values\n",
    "    df.loc[ (df.Fare.isnull())&(df.Pclass==1),'Fare'] =np.median(df[df['Pclass'] == 1]['Fare'].dropna())\n",
    "    df.loc[ (df.Fare.isnull())&(df.Pclass==2),'Fare'] =np.median( df[df['Pclass'] == 2]['Fare'].dropna())\n",
    "    df.loc[ (df.Fare.isnull())&(df.Pclass==3),'Fare'] = np.median(df[df['Pclass'] == 3]['Fare'].dropna())\n",
    "\n",
    "    df['Gender'] = df['Sex'].map( {'female': 0, 'male': 1} ).astype(int)\n",
    "\n",
    "    df['AgeFill']=df['Age']\n",
    "    mean_ages = np.zeros(4)\n",
    "    mean_ages[0]=np.average(df[df['Title'] == 'Miss']['Age'].dropna())\n",
    "    mean_ages[1]=np.average(df[df['Title'] == 'Mrs']['Age'].dropna())\n",
    "    mean_ages[2]=np.average(df[df['Title'] == 'Mr']['Age'].dropna())\n",
    "    mean_ages[3]=np.average(df[df['Title'] == 'Master']['Age'].dropna())\n",
    "    df.loc[ (df.Age.isnull()) & (df.Title == 'Miss') ,'AgeFill'] = mean_ages[0]\n",
    "    df.loc[ (df.Age.isnull()) & (df.Title == 'Mrs') ,'AgeFill'] = mean_ages[1]\n",
    "    df.loc[ (df.Age.isnull()) & (df.Title == 'Mr') ,'AgeFill'] = mean_ages[2]\n",
    "    df.loc[ (df.Age.isnull()) & (df.Title == 'Master') ,'AgeFill'] = mean_ages[3]\n",
    "\n",
    "    df['AgeCat']=df['AgeFill']\n",
    "    df.loc[ (df.AgeFill<=10) ,'AgeCat'] = 'child'\n",
    "    df.loc[ (df.AgeFill>60),'AgeCat'] = 'aged'\n",
    "    df.loc[ (df.AgeFill>10) & (df.AgeFill <=30) ,'AgeCat'] = 'adult'\n",
    "    df.loc[ (df.AgeFill>30) & (df.AgeFill <=60) ,'AgeCat'] = 'senior'\n",
    "\n",
    "    df.Embarked = df.Embarked.fillna('S')\n",
    "\n",
    "\n",
    "    # Special case for cabins as nan may be signal\n",
    "    df.loc[ df.Cabin.isnull()==True,'Cabin'] = 0.5\n",
    "    df.loc[ df.Cabin.isnull()==False,'Cabin'] = 1.5\n",
    "    # Fare per person\n",
    "\n",
    "    df['Fare_Per_Person']=df['Fare']/(df['Family_Size']+1)\n",
    "\n",
    "    # Age times class\n",
    "\n",
    "    df['AgeClass']=df['AgeFill']*df['Pclass']\n",
    "    df['ClassFare']=df['Pclass']*df['Fare_Per_Person']\n",
    "\n",
    "    df['HighGroup'] = 0\n",
    "    \n",
    "    conditions = (df['Sex'] == 'female') & ((df['Pclass'] == 1) | (df['Pclass'] == 2) | (df['AgeCat'] == 'aged'))\n",
    "    df.loc[conditions,'HighGroup'] = 1\n",
    "    \n",
    "    df['LowGroup'] = 0\n",
    "    \n",
    "    conditions = (df['Sex'] == 'male') & ((df['Pclass'] == 3) | (df['Embarked'] == 'S') | (df['AgeCat'] == 'adult'))\n",
    "    df.loc[conditions,'LowGroup'] = 1\n",
    "    \n",
    "    df['HighLow']=df['Pclass']\n",
    "    df.loc[ (df.Fare_Per_Person<8) ,'HighLow'] = 'Low'\n",
    "    df.loc[ (df.Fare_Per_Person>=8) ,'HighLow'] = 'High'\n",
    "\n",
    "    le.fit(df['Sex'] )\n",
    "    x_sex=le.transform(df['Sex'])\n",
    "    df['Sex']=x_sex.astype(np.float)\n",
    "\n",
    "    le.fit( df['Ticket'])\n",
    "    x_Ticket=le.transform( df['Ticket'])\n",
    "    df['Ticket']=x_Ticket.astype(np.float)\n",
    "\n",
    "    le.fit(df['Title'])\n",
    "    x_title=le.transform(df['Title'])\n",
    "    df['Title'] =x_title.astype(np.float)\n",
    "\n",
    "    le.fit(df['HighLow'])\n",
    "    x_hl=le.transform(df['HighLow'])\n",
    "    df['HighLow']=x_hl.astype(np.float)\n",
    "\n",
    "\n",
    "    le.fit(df['AgeCat'])\n",
    "    x_age=le.transform(df['AgeCat'])\n",
    "    df['AgeCat'] =x_age.astype(np.float)\n",
    "\n",
    "    le.fit(df['Embarked'])\n",
    "    x_emb=le.transform(df['Embarked'])\n",
    "    df['Embarked']=x_emb.astype(np.float)\n",
    "\n",
    "    df = df.drop(['Name','Age','Cabin','Gender'], axis=1) #remove Name,Age and PassengerId\n",
    "    \n",
    "    return df\n",
    "\n",
    "# reading train and test data\n",
    "titanic = pd.read_csv(\"train.csv\")\n",
    "titanic_test = pd.read_csv(\"test.csv\")\n",
    "\n",
    "titanic = clean_and_munge_data(titanic)\n",
    "titanic.drop(['PassengerId'], axis=1)\n",
    "titanic_test = clean_and_munge_data(titanic_test)"
   ]
  },
  {
   "cell_type": "markdown",
   "metadata": {},
   "source": [
    "Now it is time to draw the best features for the new data to decide what we will use for our predictors"
   ]
  },
  {
   "cell_type": "code",
   "execution_count": 428,
   "metadata": {
    "collapsed": false
   },
   "outputs": [
    {
     "data": {
      "image/png": "[encoded data removed]",
      "text/plain": [
       "<matplotlib.figure.Figure at 0x7fd694b94a90>"
      ]
     },
     "metadata": {},
     "output_type": "display_data"
    }
   ],
   "source": [
    "predictors = ['Pclass', 'Sex', 'Title', 'Fare',\n",
    "       'Embarked', 'Title', 'Family_Size', 'Family', 'AgeFill',\n",
    "       'AgeCat', 'Fare_Per_Person', 'AgeClass', 'ClassFare', 'HighLow', 'HighGroup', 'LowGroup']\n",
    "best_feature(titanic, titanic.columns)"
   ]
  },
  {
   "cell_type": "markdown",
   "metadata": {},
   "source": [
    "As we can see from the graph, Some of the most import features are HighGroup, LowGroup, Sex, AgeClass, Pclass, Fare, Fare_Per_Person, ClassFare, HighLow and Embarked. Then, we want to perform ensembling that we used before."
   ]
  },
  {
   "cell_type": "markdown",
   "metadata": {},
   "source": [
    "## Algorithms\n",
    "\n",
    "Now that we have a bunch of good predictors, we want to train the data with our modeling tools, Gradient Boosting Classifier and Random Forest Classifier. I'm also going to try some other tools learned from\n",
    "https://azure.microsoft.com/en-us/documentation/articles/machine-learning-algorithm-choice/\n",
    "and\n",
    "https://inclass.kaggle.com/c/deloitte-tackles-titanic/forums/t/9841/getting-high-scores-without-looking-at-actual-data-set\n",
    "\n",
    "Also, I will try ensembling Random Forest Classifier with Support Vector Machines and Gradient Boosting Classifier."
   ]
  },
  {
   "cell_type": "code",
   "execution_count": 447,
   "metadata": {
    "collapsed": false
   },
   "outputs": [
    {
     "name": "stdout",
     "output_type": "stream",
     "text": [
      "GBC score: \n",
      "0.81593714927\n",
      "SVC score: \n",
      "0.836139169473\n",
      "KNN score: \n",
      "0.810325476992\n",
      "RF score: \n",
      "0.830527497194\n",
      "Ensembled score: \n",
      "0.828282828283\n"
     ]
    },
    {
     "name": "stderr",
     "output_type": "stream",
     "text": [
      "/home/yuzhong/anaconda2/lib/python2.7/site-packages/ipykernel/__main__.py:48: FutureWarning: in the future, boolean array-likes will be handled as a boolean array index\n"
     ]
    }
   ],
   "source": [
    "from sklearn import svm\n",
    "from sklearn.neighbors import KNeighborsClassifier\n",
    "\n",
    "svc = svm.SVC(probability=True)\n",
    "gbc = GradientBoostingClassifier(random_state=1, n_estimators=25, max_depth=3)\n",
    "neigh = KNeighborsClassifier(n_neighbors=5)\n",
    "rf = RandomForestClassifier(random_state=1, n_estimators=100, min_samples_split=20, min_samples_leaf=10)\n",
    "\n",
    "# get all predictors so that we have a comprehensive training for gbc and rf\n",
    "gbc_preds = ['Pclass', 'Sex', 'Title', 'Fare',\n",
    "       'Embarked', 'Title', 'Family_Size', 'Family', 'AgeFill',\n",
    "       'AgeCat', 'Fare_Per_Person', 'AgeClass', 'ClassFare', 'HighLow', 'HighGroup']\n",
    "# choosing the highest features based on the graph\n",
    "svc_preds = ['Pclass', 'Sex', 'Title', 'Family_Size', 'AgeCat', 'HighGroup']\n",
    "\n",
    "print \"GBC score: \"\n",
    "train_score(gbc, gbc_preds)\n",
    "print \"SVC score: \"\n",
    "train_score(svc, svc_preds)\n",
    "print \"KNN score: \"\n",
    "train_score(neigh, svc_preds)\n",
    "print \"RF score: \"\n",
    "train_score(rf, gbc_preds)\n",
    "\n",
    "algs1 = [[gbc, gbc_preds], [svc, svc_preds]]\n",
    "algs2 = [[rf, gbc_preds], [svc, svc_preds]]\n",
    "print \"Ensembled score: \"\n",
    "ensemble_train(algs2, 1, 1)\n",
    "\n",
    "submission(ensemble_test(algs2, 1, 1))"
   ]
  },
  {
   "cell_type": "markdown",
   "metadata": {},
   "source": [
    "By ensembling svc with Gradient Boosting Classifier, or ensembling svc with Random Forest Classifier. I got a score of 0.79426 in Kaggle! But there is still a lot to improve. Next step is to further exploring features and create some new features based on the exploration"
   ]
  },
  {
   "cell_type": "markdown",
   "metadata": {},
   "source": [
    "## Further Exploration of features\n",
    "Now I have enough tools and models to work with, I need to further analyze all the features to help algorithms to better fit the data.\n",
    "\n",
    "This section includes additional data exploration and adding new features to dataset\n",
    "\n",
    "Sources that I draw inspiration from:\n",
    "https://www.kaggle.com/omarelgabry/titanic/a-journey-through-titanic/notebook"
   ]
  },
  {
   "cell_type": "code",
   "execution_count": 406,
   "metadata": {
    "collapsed": false
   },
   "outputs": [],
   "source": [
    "import seaborn as sns\n",
    "sns.set_style('whitegrid')\n",
    "\n",
    "# import data again for exploration use\n",
    "titanic_df = pd.read_csv(\"train.csv\", dtype={\"Age\": np.float64}, )\n",
    "test_df    = pd.read_csv(\"test.csv\", dtype={\"Age\": np.float64}, )"
   ]
  },
  {
   "cell_type": "code",
   "execution_count": 407,
   "metadata": {
    "collapsed": false
   },
   "outputs": [
    {
     "data": {
      "image/png": "[encoded data removed]",
      "text/plain": [
       "<matplotlib.figure.Figure at 0x7fd6981f9c90>"
      ]
     },
     "metadata": {},
     "output_type": "display_data"
    },
    {
     "data": {
      "image/png": "[encoded data removed]",
      "text/plain": [
       "<matplotlib.figure.Figure at 0x7fd6985a3710>"
      ]
     },
     "metadata": {},
     "output_type": "display_data"
    }
   ],
   "source": [
    "# Embarked\n",
    "\n",
    "# only in titanic_df, fill the two missing values with the most occurred value, which is \"S\".\n",
    "titanic_df[\"Embarked\"] = titanic_df[\"Embarked\"].fillna(\"S\")\n",
    "\n",
    "# plot\n",
    "sns.factorplot('Embarked','Survived', data=titanic_df,size=4,aspect=3)\n",
    "\n",
    "fig, (axis1,axis2,axis3) = plt.subplots(1,3,figsize=(15,5))\n",
    "\n",
    "# sns.factorplot('Embarked',data=titanic_df,kind='count',order=['S','C','Q'],ax=axis1)\n",
    "# sns.factorplot('Survived',hue=\"Embarked\",data=titanic_df,kind='count',order=[1,0],ax=axis2)\n",
    "sns.countplot(x='Embarked', data=titanic_df, ax=axis1)\n",
    "sns.countplot(x='Survived', hue=\"Embarked\", data=titanic_df, order=[1,0], ax=axis2)\n",
    "\n",
    "# group by embarked, and get the mean for survived passengers for each value in Embarked\n",
    "embark_perc = titanic_df[[\"Embarked\", \"Survived\"]].groupby(['Embarked'],as_index=False).mean()\n",
    "sns.barplot(x='Embarked', y='Survived', data=embark_perc,order=['S','C','Q'],ax=axis3)\n",
    "\n",
    "# Either to consider Embarked column in predictions,\n",
    "# and remove \"S\" dummy variable, \n",
    "# and leave \"C\" & \"Q\", since they seem to have a good rate for Survival.\n",
    "\n",
    "# OR, don't create dummy variables for Embarked column, just drop it, \n",
    "# because logically, Embarked doesn't seem to be useful in prediction.\n",
    "\n",
    "\n",
    "titanic_df = titanic_df.join(embark_dummies_titanic)\n",
    "test_df    = test_df.join(embark_dummies_test)"
   ]
  },
  {
   "cell_type": "markdown",
   "metadata": {},
   "source": [
    "As wee can see from the graphs, survival rate of these groups does vary, but the survival rate's difference is not large enough(groups with survival rate larger than 80% and smaller than 20% are helpful for our existing model). So I will further explore the age and sex of people in group 'S' to see if I can find a group that has low survival rate"
   ]
  },
  {
   "cell_type": "code",
   "execution_count": 419,
   "metadata": {
    "collapsed": false
   },
   "outputs": [
    {
     "data": {
      "text/plain": [
       "<seaborn.axisgrid.FacetGrid at 0x7fd696877650>"
      ]
     },
     "execution_count": 419,
     "metadata": {},
     "output_type": "execute_result"
    },
    {
     "data": {
      "image/png": "[encoded data removed]",
      "text/plain": [
       "<matplotlib.figure.Figure at 0x7fd6965eae50>"
      ]
     },
     "metadata": {},
     "output_type": "display_data"
    },
    {
     "data": {
      "image/png": "[encoded data removed]",
      "text/plain": [
       "<matplotlib.figure.Figure at 0x7fd696610490>"
      ]
     },
     "metadata": {},
     "output_type": "display_data"
    }
   ],
   "source": [
    "# plot\n",
    "sns.factorplot('Sex', 'Age', 'Survived', data=titanic_df[titanic_df['Embarked'] == 'S'],size=4,aspect=3)\n",
    "sns.factorplot('Sex', 'Survived', data=titanic_df[titanic_df['Embarked'] == 'S'],size=4,aspect=3)\n"
   ]
  },
  {
   "cell_type": "markdown",
   "metadata": {},
   "source": [
    "Male with 'Embarked' 'S' is definitely a low survival rate group. But together with Age, we can see that male with 'Embarked' 'S' can be further divided into adult and children. So let's seperate the group based on age."
   ]
  },
  {
   "cell_type": "code",
   "execution_count": 426,
   "metadata": {
    "collapsed": false
   },
   "outputs": [
    {
     "data": {
      "text/plain": [
       "<seaborn.axisgrid.FacetGrid at 0x7fd694904c10>"
      ]
     },
     "execution_count": 426,
     "metadata": {},
     "output_type": "execute_result"
    },
    {
     "data": {
      "image/png": "[encoded data removed]",
      "text/plain": [
       "<matplotlib.figure.Figure at 0x7fd69499dbd0>"
      ]
     },
     "metadata": {},
     "output_type": "display_data"
    }
   ],
   "source": [
    "conditions = (titanic_df['Embarked'] == 'S') & (titanic_df['Age'] > 18.0)\n",
    "sns.factorplot('Sex', 'Survived', data=titanic_df[conditions],size=4,aspect=3)"
   ]
  },
  {
   "cell_type": "markdown",
   "metadata": {},
   "source": [
    "From this graph, we knows that male adults embarked at 'S' is a low survival rate group(about only 15 percent). Thus we will add this group to a new feature 'LowGroup' to our function clean_and_munge_data. To save time and space, I modified the function from above instead of redefining it below."
   ]
  },
  {
   "cell_type": "code",
   "execution_count": 432,
   "metadata": {
    "collapsed": false
   },
   "outputs": [],
   "source": [
    "# re-reading train and test data\n",
    "titanic = pd.read_csv(\"train.csv\")\n",
    "titanic_test = pd.read_csv(\"test.csv\")\n",
    "\n",
    "titanic = clean_and_munge_data(titanic)\n",
    "titanic.drop(['PassengerId'], axis=1)\n",
    "titanic_test = clean_and_munge_data(titanic_test)"
   ]
  },
  {
   "cell_type": "code",
   "execution_count": 450,
   "metadata": {
    "collapsed": false
   },
   "outputs": [
    {
     "name": "stdout",
     "output_type": "stream",
     "text": [
      "GBC score: \n",
      "0.81593714927\n",
      "SVC score: \n",
      "0.832772166105\n",
      "KNN score: \n",
      "0.800224466891\n",
      "RF score: \n",
      "0.814814814815\n",
      "Ensembled score: \n",
      "0.828282828283\n"
     ]
    },
    {
     "name": "stderr",
     "output_type": "stream",
     "text": [
      "/home/yuzhong/anaconda2/lib/python2.7/site-packages/ipykernel/__main__.py:48: FutureWarning: in the future, boolean array-likes will be handled as a boolean array index\n"
     ]
    }
   ],
   "source": [
    "svc = svm.SVC(probability=True)\n",
    "gbc = GradientBoostingClassifier(random_state=1, n_estimators=25, max_depth=3)\n",
    "neigh = KNeighborsClassifier(n_neighbors=5)\n",
    "rf = RandomForestClassifier(random_state=1, n_estimators=500, min_samples_split=40, min_samples_leaf=20)\n",
    "\n",
    "# get all predictors so that we have a comprehensive training for gbc and rf\n",
    "gbc_preds = ['Pclass', 'Sex', 'Title', 'Fare',\n",
    "       'Embarked', 'Title', 'Family_Size', 'Family', 'AgeFill',\n",
    "       'AgeCat', 'Fare_Per_Person', 'AgeClass', 'ClassFare', 'HighLow', 'HighGroup']\n",
    "# choosing the highest features based on the graph\n",
    "svc_preds = ['Pclass', 'Sex', 'Title', 'Family_Size', 'AgeCat', 'HighGroup', 'LowGroup']\n",
    "\n",
    "print \"GBC score: \"\n",
    "train_score(gbc, gbc_preds)\n",
    "print \"SVC score: \"\n",
    "train_score(svc, svc_preds)\n",
    "print \"KNN score: \"\n",
    "train_score(neigh, svc_preds)\n",
    "print \"RF score: \"\n",
    "train_score(rf, gbc_preds)\n",
    "\n",
    "algs1 = [[gbc, gbc_preds], [svc, svc_preds]]\n",
    "algs2 = [[rf, gbc_preds], [svc, svc_preds]]\n",
    "print \"Ensembled score: \"\n",
    "ensemble_train(algs2, 1, 1)\n",
    "\n",
    "svc.predict(titanic[svc_preds], titanic['Survivied'])\n",
    "\n",
    "submission()"
   ]
  },
  {
   "cell_type": "markdown",
   "metadata": {},
   "source": [
    "The score in our training set improves a little, but the score in Kaggle does not change. It is still 0.79426."
   ]
  }
 ],
 "metadata": {
  "kernelspec": {
   "display_name": "Python 2",
   "language": "python",
   "name": "python2"
  },
  "language_info": {
   "codemirror_mode": {
    "name": "ipython",
    "version": 2
   },
   "file_extension": ".py",
   "mimetype": "text/x-python",
   "name": "python",
   "nbconvert_exporter": "python",
   "pygments_lexer": "ipython2",
   "version": "2.7.11"
  }
 },
 "nbformat": 4,
 "nbformat_minor": 0
}
